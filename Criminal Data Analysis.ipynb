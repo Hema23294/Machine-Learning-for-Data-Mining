{
 "cells": [
  {
   "cell_type": "markdown",
   "metadata": {},
   "source": [
    
   ]
  },
  {
   "cell_type": "markdown",
   "metadata": {},
   "source": [
    " We will be  implementing different validation methods and compare their performances.\n",
    "Here, we are working with dataset about criminal records in various community."
   ]
  },
  {
   "cell_type": "code",
   "execution_count": 1,
   "metadata": {},
   "outputs": [],
   "source": [
    "#loading libraries\n",
    "import pandas as pd\n",
    "import numpy as np\n",
    "import matplotlib.pyplot as plt\n",
    "import seaborn as sns\n",
    "from sklearn.linear_model import LinearRegression\n",
    "import statsmodels.api as sm\n",
    "import warnings\n",
    "warnings.filterwarnings('ignore') \n",
    "from sklearn import linear_model\n",
    "from sklearn.preprocessing import StandardScaler\n",
    "from sklearn.model_selection import train_test_split\n",
    "from sklearn.metrics import accuracy_score\n",
    "from sklearn.linear_model import Lasso # For LASSO\n",
    "from sklearn.metrics import mean_squared_error # For evaluation\n",
    "from sklearn import metrics"
   ]
  },
  {
   "cell_type": "code",
   "execution_count": 2,
   "metadata": {
    "scrolled": false
   },
   "outputs": [
    {
     "data": {
      "text/html": [
       "<div>\n",
       "<style scoped>\n",
       "    .dataframe tbody tr th:only-of-type {\n",
       "        vertical-align: middle;\n",
       "    }\n",
       "\n",
       "    .dataframe tbody tr th {\n",
       "        vertical-align: top;\n",
       "    }\n",
       "\n",
       "    .dataframe thead th {\n",
       "        text-align: right;\n",
       "    }\n",
       "</style>\n",
       "<table border=\"1\" class=\"dataframe\">\n",
       "  <thead>\n",
       "    <tr style=\"text-align: right;\">\n",
       "      <th></th>\n",
       "      <th>population</th>\n",
       "      <th>householdsize</th>\n",
       "      <th>racepctblack</th>\n",
       "      <th>racePctWhite</th>\n",
       "      <th>racePctAsian</th>\n",
       "      <th>racePctHisp</th>\n",
       "      <th>agePct12t21</th>\n",
       "      <th>agePct12t29</th>\n",
       "      <th>agePct16t24</th>\n",
       "      <th>agePct65up</th>\n",
       "      <th>...</th>\n",
       "      <th>PctForeignBorn</th>\n",
       "      <th>PctBornSameState</th>\n",
       "      <th>PctSameHouse85</th>\n",
       "      <th>PctSameCity85</th>\n",
       "      <th>PctSameState85</th>\n",
       "      <th>LandArea</th>\n",
       "      <th>PopDens</th>\n",
       "      <th>PctUsePubTrans</th>\n",
       "      <th>LemasPctOfficDrugUn</th>\n",
       "      <th>nonViolPerPop</th>\n",
       "    </tr>\n",
       "  </thead>\n",
       "  <tbody>\n",
       "    <tr>\n",
       "      <th>0</th>\n",
       "      <td>11980</td>\n",
       "      <td>3.10</td>\n",
       "      <td>1.37</td>\n",
       "      <td>91.78</td>\n",
       "      <td>6.50</td>\n",
       "      <td>1.88</td>\n",
       "      <td>12.47</td>\n",
       "      <td>21.44</td>\n",
       "      <td>10.93</td>\n",
       "      <td>11.33</td>\n",
       "      <td>...</td>\n",
       "      <td>10.66</td>\n",
       "      <td>53.72</td>\n",
       "      <td>65.29</td>\n",
       "      <td>78.09</td>\n",
       "      <td>89.14</td>\n",
       "      <td>6.5</td>\n",
       "      <td>1845.9</td>\n",
       "      <td>9.63</td>\n",
       "      <td>0.0</td>\n",
       "      <td>1394.59</td>\n",
       "    </tr>\n",
       "    <tr>\n",
       "      <th>1</th>\n",
       "      <td>23123</td>\n",
       "      <td>2.82</td>\n",
       "      <td>0.80</td>\n",
       "      <td>95.57</td>\n",
       "      <td>3.44</td>\n",
       "      <td>0.85</td>\n",
       "      <td>11.01</td>\n",
       "      <td>21.30</td>\n",
       "      <td>10.48</td>\n",
       "      <td>17.18</td>\n",
       "      <td>...</td>\n",
       "      <td>8.30</td>\n",
       "      <td>77.17</td>\n",
       "      <td>71.27</td>\n",
       "      <td>90.22</td>\n",
       "      <td>96.12</td>\n",
       "      <td>10.6</td>\n",
       "      <td>2186.7</td>\n",
       "      <td>3.84</td>\n",
       "      <td>0.0</td>\n",
       "      <td>1955.95</td>\n",
       "    </tr>\n",
       "    <tr>\n",
       "      <th>2</th>\n",
       "      <td>29344</td>\n",
       "      <td>2.43</td>\n",
       "      <td>0.74</td>\n",
       "      <td>94.33</td>\n",
       "      <td>3.43</td>\n",
       "      <td>2.35</td>\n",
       "      <td>11.36</td>\n",
       "      <td>25.88</td>\n",
       "      <td>11.01</td>\n",
       "      <td>10.28</td>\n",
       "      <td>...</td>\n",
       "      <td>5.00</td>\n",
       "      <td>44.77</td>\n",
       "      <td>36.60</td>\n",
       "      <td>61.26</td>\n",
       "      <td>82.85</td>\n",
       "      <td>10.6</td>\n",
       "      <td>2780.9</td>\n",
       "      <td>4.37</td>\n",
       "      <td>0.0</td>\n",
       "      <td>6167.51</td>\n",
       "    </tr>\n",
       "    <tr>\n",
       "      <th>3</th>\n",
       "      <td>11245</td>\n",
       "      <td>2.76</td>\n",
       "      <td>0.53</td>\n",
       "      <td>89.16</td>\n",
       "      <td>1.17</td>\n",
       "      <td>0.52</td>\n",
       "      <td>24.46</td>\n",
       "      <td>40.53</td>\n",
       "      <td>28.69</td>\n",
       "      <td>12.65</td>\n",
       "      <td>...</td>\n",
       "      <td>1.74</td>\n",
       "      <td>73.75</td>\n",
       "      <td>42.22</td>\n",
       "      <td>60.34</td>\n",
       "      <td>89.02</td>\n",
       "      <td>11.5</td>\n",
       "      <td>974.2</td>\n",
       "      <td>0.38</td>\n",
       "      <td>0.0</td>\n",
       "      <td>9988.79</td>\n",
       "    </tr>\n",
       "    <tr>\n",
       "      <th>4</th>\n",
       "      <td>140494</td>\n",
       "      <td>2.45</td>\n",
       "      <td>2.51</td>\n",
       "      <td>95.65</td>\n",
       "      <td>0.90</td>\n",
       "      <td>0.95</td>\n",
       "      <td>18.09</td>\n",
       "      <td>32.89</td>\n",
       "      <td>20.04</td>\n",
       "      <td>13.26</td>\n",
       "      <td>...</td>\n",
       "      <td>1.49</td>\n",
       "      <td>64.35</td>\n",
       "      <td>42.29</td>\n",
       "      <td>70.61</td>\n",
       "      <td>85.66</td>\n",
       "      <td>70.4</td>\n",
       "      <td>1995.7</td>\n",
       "      <td>0.97</td>\n",
       "      <td>0.0</td>\n",
       "      <td>6867.42</td>\n",
       "    </tr>\n",
       "  </tbody>\n",
       "</table>\n",
       "<p>5 rows × 102 columns</p>\n",
       "</div>"
      ],
      "text/plain": [
       "   population  householdsize  racepctblack  racePctWhite  racePctAsian  \\\n",
       "0       11980           3.10          1.37         91.78          6.50   \n",
       "1       23123           2.82          0.80         95.57          3.44   \n",
       "2       29344           2.43          0.74         94.33          3.43   \n",
       "3       11245           2.76          0.53         89.16          1.17   \n",
       "4      140494           2.45          2.51         95.65          0.90   \n",
       "\n",
       "   racePctHisp  agePct12t21  agePct12t29  agePct16t24  agePct65up  ...  \\\n",
       "0         1.88        12.47        21.44        10.93       11.33  ...   \n",
       "1         0.85        11.01        21.30        10.48       17.18  ...   \n",
       "2         2.35        11.36        25.88        11.01       10.28  ...   \n",
       "3         0.52        24.46        40.53        28.69       12.65  ...   \n",
       "4         0.95        18.09        32.89        20.04       13.26  ...   \n",
       "\n",
       "   PctForeignBorn  PctBornSameState  PctSameHouse85  PctSameCity85  \\\n",
       "0           10.66             53.72           65.29          78.09   \n",
       "1            8.30             77.17           71.27          90.22   \n",
       "2            5.00             44.77           36.60          61.26   \n",
       "3            1.74             73.75           42.22          60.34   \n",
       "4            1.49             64.35           42.29          70.61   \n",
       "\n",
       "   PctSameState85  LandArea  PopDens  PctUsePubTrans  LemasPctOfficDrugUn  \\\n",
       "0           89.14       6.5   1845.9            9.63                  0.0   \n",
       "1           96.12      10.6   2186.7            3.84                  0.0   \n",
       "2           82.85      10.6   2780.9            4.37                  0.0   \n",
       "3           89.02      11.5    974.2            0.38                  0.0   \n",
       "4           85.66      70.4   1995.7            0.97                  0.0   \n",
       "\n",
       "   nonViolPerPop  \n",
       "0        1394.59  \n",
       "1        1955.95  \n",
       "2        6167.51  \n",
       "3        9988.79  \n",
       "4        6867.42  \n",
       "\n",
       "[5 rows x 102 columns]"
      ]
     },
     "execution_count": 2,
     "metadata": {},
     "output_type": "execute_result"
    }
   ],
   "source": [
    "# Loading the file\n",
    "data = pd.read_csv('community.csv')\n",
    "data.head()"
   ]
  },
  {
   "cell_type": "markdown",
   "metadata": {},
   "source": [
    "We will observe the data now."
   ]
  },
  {
   "cell_type": "code",
   "execution_count": 3,
   "metadata": {
    "scrolled": true
   },
   "outputs": [
    {
     "data": {
      "text/plain": [
       "(2118, 102)"
      ]
     },
     "execution_count": 3,
     "metadata": {},
     "output_type": "execute_result"
    }
   ],
   "source": [
    "data.shape"
   ]
  },
  {
   "cell_type": "markdown",
   "metadata": {},
   "source": [
    "We will create our response and predictor variables. "
   ]
  },
  {
   "cell_type": "code",
   "execution_count": 4,
   "metadata": {},
   "outputs": [],
   "source": [
    "# Separate the X and Y\n",
    "X = data.copy() \n",
    "del X['nonViolPerPop']\n",
    "y = data['nonViolPerPop']"
   ]
  },
  {
   "cell_type": "markdown",
   "metadata": {},
   "source": [
    "Now, to track various computing process timings, we have defined tic and toe, which will basically be placed in our code's beginning and end respectively. Their time difference will be our computing time."
   ]
  },
  {
   "cell_type": "code",
   "execution_count": 5,
   "metadata": {
    "scrolled": true
   },
   "outputs": [
    {
     "name": "stdout",
     "output_type": "stream",
     "text": [
      "\n",
      " ----- Computation time = 0.0ms\n"
     ]
    }
   ],
   "source": [
    "#Computing process timing\n",
    "import time\n",
    "tic = time.process_time()   #stores process time\n",
    "toc = time.process_time()   #stores process time\n",
    "print (\"\\n ----- Computation time = \" + str(1000*(toc - tic)) + \"ms\")"
   ]
  },
  {
   "cell_type": "markdown",
   "metadata": {},
   "source": [
    "Now before the fitting the data we will split the data into training, test and validation data. Then we scale the data. We have placed tic at the top of code and toc at the bottom to calculate computation time."
   ]
  },
  {
   "cell_type": "code",
   "execution_count": 6,
   "metadata": {},
   "outputs": [
    {
     "name": "stdout",
     "output_type": "stream",
     "text": [
      "population            -0.004981\n",
      "householdsize          0.029821\n",
      "racepctblack           0.009925\n",
      "racePctWhite           0.006423\n",
      "racePctAsian           0.041576\n",
      "                         ...   \n",
      "PctSameState85        -0.047977\n",
      "LandArea              -0.020620\n",
      "PopDens                0.054011\n",
      "PctUsePubTrans         0.036836\n",
      "LemasPctOfficDrugUn    0.002286\n",
      "Length: 101, dtype: float64\n",
      "population             0.590395\n",
      "householdsize          1.022156\n",
      "racepctblack           1.048639\n",
      "racePctWhite           0.998521\n",
      "racePctAsian           1.070864\n",
      "                         ...   \n",
      "PctSameState85         1.052080\n",
      "LandArea               0.358184\n",
      "PopDens                1.229877\n",
      "PctUsePubTrans         1.007764\n",
      "LemasPctOfficDrugUn    1.273218\n",
      "Length: 101, dtype: float64\n"
     ]
    }
   ],
   "source": [
    "tic = time.process_time()\n",
    "# Train+Valid / test sets split. Use random_state 1\n",
    "X_train_valid, X_test, y_train_valid, y_test = train_test_split(X, y, test_size = 0.3, random_state = 1)\n",
    "\n",
    "# Train/valid sets split. Use random_state 1\n",
    "X_train, X_valid, y_train, y_valid = train_test_split(X_train_valid, y_train_valid, test_size = 0.3, random_state = 1)\n",
    "\n",
    "# Scale data (only fit with the training data, and transform both the training and validation data)\n",
    "scaler = StandardScaler() \n",
    "scaler.fit(X_train) \n",
    "X_valid = pd.DataFrame(scaler.transform(X_valid)) \n",
    "X_valid.columns = X.columns.values\n",
    "X_train = pd.DataFrame(scaler.transform(X_train)) \n",
    "X_train.columns = X.columns.values\n",
    "toc = time.process_time()\n",
    "print(X_valid.mean())\n",
    "print(X_valid.std())"
   ]
  },
  {
   "cell_type": "code",
   "execution_count": 7,
   "metadata": {},
   "outputs": [
    {
     "name": "stdout",
     "output_type": "stream",
     "text": [
      "\n",
      " ----- Computation time = 0.0ms\n"
     ]
    }
   ],
   "source": [
    "print (\"\\n ----- Computation time = \" + str(1000*(toc - tic)) + \"ms\")"
   ]
  },
  {
   "cell_type": "markdown",
   "metadata": {},
   "source": [
    "##### We can see that our computation time for scaling the data after splitting the data is 15.625ms."
   ]
  },
  {
   "cell_type": "markdown",
   "metadata": {},
   "source": [
    "In the next part, we will perform lasso regression on the data, print it's MSE values & coefficients and record it's computation time."
   ]
  },
  {
   "cell_type": "code",
   "execution_count": 8,
   "metadata": {},
   "outputs": [
    {
     "name": "stdout",
     "output_type": "stream",
     "text": [
      "                       0           1\n",
      "0             population -214.971024\n",
      "1          householdsize -493.653070\n",
      "2           racepctblack  385.845159\n",
      "3           racePctWhite  411.795373\n",
      "4           racePctAsian  322.305410\n",
      "..                   ...         ...\n",
      "96        PctSameState85   68.394559\n",
      "97              LandArea  -68.425691\n",
      "98               PopDens -230.044354\n",
      "99        PctUsePubTrans -134.304970\n",
      "100  LemasPctOfficDrugUn  249.510874\n",
      "\n",
      "[101 rows x 2 columns]\n",
      "3317750.448686371\n"
     ]
    }
   ],
   "source": [
    "# Lasso regression\n",
    "tic = time.process_time()\n",
    "lm_lasso = linear_model.Lasso().fit(X_train,y_train)\n",
    "print(pd.DataFrame(zip(X_train.columns.values, lm_lasso.coef_)))\n",
    "print(metrics.mean_squared_error(lm_lasso.predict(X_valid), y_valid))"
   ]
  },
  {
   "cell_type": "code",
   "execution_count": 9,
   "metadata": {
    "scrolled": true
   },
   "outputs": [
    {
     "name": "stdout",
     "output_type": "stream",
     "text": [
      " Lasso Score is 0.5699344966981389\n",
      " ----- Computation time = 171.875ms\n"
     ]
    }
   ],
   "source": [
    "score=lm_lasso.score(X_valid, y_valid)\n",
    "toc = time.process_time()\n",
    "print (\" Lasso Score is \"+str(score)+\"\\n ----- Computation time = \" + str(1000*(toc - tic)) + \"ms\")"
   ]
  },
  {
   "cell_type": "markdown",
   "metadata": {},
   "source": [
    "We can see that the Lasso Score is 0.5699 and the computation time captured to perform this step is 1031.25 ms. This step is taking more time for computation maybe because it is considering all 101 predictors and then computing it's MSE value."
   ]
  },
  {
   "cell_type": "markdown",
   "metadata": {},
   "source": [
    "Now we will find best alpha parameter for the Lasso model and display."
   ]
  },
  {
   "cell_type": "code",
   "execution_count": 10,
   "metadata": {},
   "outputs": [
    {
     "name": "stdout",
     "output_type": "stream",
     "text": [
      "[(1e-10, 3328324.0690982915), (1e-09, 3328324.0690689855), (1e-08, 3328324.0687758923), (1e-07, 3328324.0658449708), (1e-06, 3328324.0365357804), (1e-05, 3328323.7434453345), (0.0001, 3328320.812686128), (0.001, 3328291.502464277), (0.01, 3327999.1876934455), (0.1, 3325361.8531911992), (1.0, 3317750.448686371), (10.0, 3351763.6297321427), (100.0, 3616281.0702169337), (1000.0, 5089594.534037838), (10000.0, 7714906.969245019), (100000.0, 7714906.969245019), (1000000.0, 7714906.969245019), (10000000.0, 7714906.969245019), (100000000.0, 7714906.969245019), (1000000000.0, 7714906.969245019), (10000000000.0, 7714906.969245019)]\n"
     ]
    },
    {
     "data": {
      "image/png": "[encoded data removed]",
      "text/plain": [
       "<Figure size 432x288 with 1 Axes>"
      ]
     },
     "metadata": {
      "needs_background": "light"
     },
     "output_type": "display_data"
    }
   ],
   "source": [
    "alphas = np.logspace(-10, 10, 21) # We will use lambda on powers of 10 scale\n",
    "alphas_index = np.linspace(-10, 10, 21) # The lambda values on log scale\n",
    "\n",
    "Validation_Scores = []\n",
    "for a in alphas:\n",
    "    lm = linear_model.Lasso(alpha=a)\n",
    "    lm.fit(X_train, y_train) # Fit model on training+validation set\n",
    "    Validation_Scores.append(metrics.mean_squared_error(lm.predict(X_valid), y_valid)) # Evaluate model on test set\n",
    "\n",
    "\n",
    "print(list(zip(alphas, Validation_Scores))) #print all alphas and validation scores to plot graph.\n",
    "plt.plot(alphas_index, Validation_Scores)\n",
    "plt.xlabel(\"Log(Alpha/Lambda)\")\n",
    "plt.ylabel(\"Test_Error\")\n",
    "plt.title(\"Lasso Regression\")\n",
    "plt.show()"
   ]
  },
  {
   "cell_type": "code",
   "execution_count": 11,
   "metadata": {
    "scrolled": true
   },
   "outputs": [
    {
     "data": {
      "text/plain": [
       "1.0"
      ]
     },
     "execution_count": 11,
     "metadata": {},
     "output_type": "execute_result"
    }
   ],
   "source": [
    "min(Validation_Scores) #fetches minimum validation score.\n",
    "alphas[np.argmin(Validation_Scores)]"
   ]
  },
  {
   "cell_type": "markdown",
   "metadata": {},
   "source": [
    "Now we will find the smallest prediction error for lasso model."
   ]
  },
  {
   "cell_type": "code",
   "execution_count": 12,
   "metadata": {
    "scrolled": false
   },
   "outputs": [
    {
     "name": "stdout",
     "output_type": "stream",
     "text": [
      "                       0           1\n",
      "0             population   -0.000000\n",
      "1          householdsize -303.932580\n",
      "2           racepctblack   49.602928\n",
      "3           racePctWhite    0.000000\n",
      "4           racePctAsian   43.385785\n",
      "..                   ...         ...\n",
      "96        PctSameState85   -0.000000\n",
      "97              LandArea  -28.751322\n",
      "98               PopDens -257.382070\n",
      "99        PctUsePubTrans  -95.741881\n",
      "100  LemasPctOfficDrugUn  244.265297\n",
      "\n",
      "[101 rows x 2 columns]\n",
      "3351763.6297321427\n",
      "\n",
      " ----- Computation time = 187.5ms\n"
     ]
    }
   ],
   "source": [
    "# Smallest Prediction Error\n",
    "tic = time.process_time()\n",
    "lm_lasso = linear_model.Lasso(alpha = 10).fit(X_train,y_train)\n",
    "toc = time.process_time()\n",
    "print(pd.DataFrame(zip(X_train.columns.values, lm_lasso.coef_)))\n",
    "print(metrics.mean_squared_error(lm_lasso.predict(X_valid), y_valid))\n",
    "print (\"\\n ----- Computation time = \" + str(1000*(toc - tic)) + \"ms\")"
   ]
  },
  {
   "cell_type": "markdown",
   "metadata": {},
   "source": [
    "Prediction error for testing set"
   ]
  },
  {
   "cell_type": "code",
   "execution_count": 13,
   "metadata": {
    "scrolled": true
   },
   "outputs": [
    {
     "name": "stdout",
     "output_type": "stream",
     "text": [
      "population             1.460820e-17\n",
      "householdsize         -3.602606e-16\n",
      "racepctblack          -7.221694e-17\n",
      "racePctWhite           1.517754e-16\n",
      "racePctAsian           6.083003e-17\n",
      "                           ...     \n",
      "PctSameState85         3.456524e-16\n",
      "LandArea              -2.775558e-17\n",
      "PopDens               -5.184037e-17\n",
      "PctUsePubTrans        -2.458110e-18\n",
      "LemasPctOfficDrugUn   -7.164010e-16\n",
      "Length: 101, dtype: float64\n",
      "population             1.000338\n",
      "householdsize          1.000338\n",
      "racepctblack           1.000338\n",
      "racePctWhite           1.000338\n",
      "racePctAsian           1.000338\n",
      "                         ...   \n",
      "PctSameState85         1.000338\n",
      "LandArea               1.000338\n",
      "PopDens                1.000338\n",
      "PctUsePubTrans         1.000338\n",
      "LemasPctOfficDrugUn    1.000338\n",
      "Length: 101, dtype: float64\n",
      "              0                    1\n",
      "0      0.000000           population\n",
      "1   -477.290736        householdsize\n",
      "2    457.146689         racepctblack\n",
      "3    390.474557         racePctWhite\n",
      "4    252.671790         racePctAsian\n",
      "..          ...                  ...\n",
      "96     6.786263       PctSameState85\n",
      "97   -59.666816             LandArea\n",
      "98  -255.944269              PopDens\n",
      "99  -134.575891       PctUsePubTrans\n",
      "100  151.120050  LemasPctOfficDrugUn\n",
      "\n",
      "[101 rows x 2 columns]\n",
      "The prediction error on the testing set is 3622527.9572477085\n"
     ]
    }
   ],
   "source": [
    "#Now use the training+validation set, refit the model using the best lambda from above, and perform prediction on the test set. \n",
    "#At this point you should scale using both the training+validation data together. \n",
    "#What is the prediction error on the test set with this lambda value?\n",
    "\n",
    "\n",
    "# Scale data (use t\n",
    "scaler.fit(X_train_valid) \n",
    "X_train_valid = pd.DataFrame(scaler.transform(X_train_valid)) \n",
    "X_test = pd.DataFrame(scaler.transform(X_test)) \n",
    "X_train_valid.columns = X.columns.values\n",
    "X_test.columns = X.columns.values\n",
    "print(X_train_valid.mean())\n",
    "print(X_train_valid.std())\n",
    "\n",
    "\n",
    "# Refit model with train + validation set, perform prediction on test set\n",
    "lm = linear_model.Lasso(alpha = alphas[np.argmin(Validation_Scores)] )\n",
    "lm.fit(X_train_valid, y_train_valid)\n",
    "print(pd.DataFrame(zip(lm.coef_,X.columns)))\n",
    "print(\"The prediction error on the testing set is\", metrics.mean_squared_error(lm.predict(X_test), y_test))"
   ]
  },
  {
   "cell_type": "markdown",
   "metadata": {},
   "source": [
    "We can see that the values for:\n",
    "\n",
    "The prediction error on the validation set is 3351763.6297321427\n",
    "\n",
    "The prediction error on the testing set is 3622527.9572477085\n"
   ]
  },
  {
   "cell_type": "code",
   "execution_count": 14,
   "metadata": {
    "scrolled": false
   },
   "outputs": [
    {
     "data": {
      "text/plain": [
       "0.6268724646590897"
      ]
     },
     "execution_count": 14,
     "metadata": {},
     "output_type": "execute_result"
    }
   ],
   "source": [
    "lm.score(X_valid, y_valid)  #accuracy of Lasso model"
   ]
  },
  {
   "cell_type": "markdown",
   "metadata": {},
   "source": [
    "# Grid Search"
   ]
  },
  {
   "cell_type": "markdown",
   "metadata": {},
   "source": [
    "Now we will be performing 5 fold cross validation and then 10 fold to compare their computation time."
   ]
  },
  {
   "cell_type": "code",
   "execution_count": 15,
   "metadata": {},
   "outputs": [],
   "source": [
    "# imports for cross validation\n",
    "from sklearn.model_selection import GridSearchCV\n",
    "from sklearn.pipeline import Pipeline\n",
    "from sklearn.linear_model import LogisticRegression\n",
    "from sklearn.model_selection import cross_val_score"
   ]
  },
  {
   "cell_type": "code",
   "execution_count": 16,
   "metadata": {},
   "outputs": [],
   "source": [
    "# Set up the model pipeline\n",
    "estimator = Pipeline(steps = [('scale', StandardScaler()), # We first need to scale the data\n",
    "                     ('lasso', Lasso()) ]) # Then fit the scaled data using Lasso\n",
    "\n",
    "# Set up the parameters for each item in the pipeline\n",
    "# Parameters of pipelines can be set using ‘__’ separating the parameter names:\n",
    "parameters = {'lasso__alpha': np.logspace(-10,10,21),\n",
    "             'lasso__max_iter': [50,70,100]} # Here is a second argument for Lasso, just to illustrate how to add\n",
    "                                          # multiple hyperparameters to tune. (have taken random num here)\n",
    "\n",
    "#Method-Grid Search-5 fold CV\n",
    "tic = time.process_time()\n",
    "reg = GridSearchCV(estimator = estimator, param_grid = parameters, cv = 5, \n",
    "                   scoring = 'neg_mean_squared_error', n_jobs = -1) # Instantiate the gridsearch\n",
    "reg.fit(X_train, y_train) # Fit the grid search, i.e. perform CV and grid search. \n",
    "reg.best_params_ # The best parameter from CV\n",
    "toc = time.process_time()"
   ]
  },
  {
   "cell_type": "code",
   "execution_count": 17,
   "metadata": {},
   "outputs": [],
   "source": [
    "reg.predict(X_test) # This is how we perform prediction\n",
    "mse=mean_squared_error(reg.predict(X_test), y_test)\n",
    "score=reg.score(X_valid, y_valid)"
   ]
  },
  {
   "cell_type": "code",
   "execution_count": 18,
   "metadata": {},
   "outputs": [
    {
     "name": "stdout",
     "output_type": "stream",
     "text": [
      " Best Parameters for 5 fold CV= {'lasso__alpha': 10.0, 'lasso__max_iter': 100}\n",
      " Mean Squared Error= 3538489.301508037\n",
      " Score= -3362366.7466791393\n",
      " ----- Computation time = 1546.875ms\n"
     ]
    }
   ],
   "source": [
    "print (\" Best Parameters for 5 fold CV= \" + str(reg.best_params_) + \"\\n Mean Squared Error= \" + str(mse)+\"\\n Score= \" + str(score)+\"\\n ----- Computation time = \" + str(1000*(toc - tic)) + \"ms\")"
   ]
  },
  {
   "cell_type": "code",
   "execution_count": 19,
   "metadata": {},
   "outputs": [],
   "source": [
    "#Method-Grid Search-10 fold CV\n",
    "tic = time.process_time()\n",
    "reg = GridSearchCV(estimator = estimator, param_grid = parameters, cv = 10, \n",
    "                   scoring = 'neg_mean_squared_error', n_jobs = -1) # Instantiate the gridsearch\n",
    "reg.fit(X_train, y_train) # Fit the grid search, i.e. perform CV and grid search. \n",
    "reg.best_params_ # The best parameter from CV\n",
    "toc = time.process_time()"
   ]
  },
  {
   "cell_type": "code",
   "execution_count": 20,
   "metadata": {},
   "outputs": [],
   "source": [
    "reg.predict(X_test) # This is how we perform prediction\n",
    "mse=mean_squared_error(reg.predict(X_test), y_test)\n",
    "score=reg.score(X_valid, y_valid)"
   ]
  },
  {
   "cell_type": "code",
   "execution_count": 21,
   "metadata": {
    "scrolled": true
   },
   "outputs": [
    {
     "name": "stdout",
     "output_type": "stream",
     "text": [
      " Best Parameters for 10 fold CV= {'lasso__alpha': 10.0, 'lasso__max_iter': 100}\n",
      " Mean Squared Error= 3538489.301508037\n",
      " Score= -3362366.7466791393\n",
      " ----- Computation time = 2718.75ms\n"
     ]
    }
   ],
   "source": [
    "print (\" Best Parameters for 10 fold CV= \" + str(reg.best_params_) + \"\\n Mean Squared Error= \" + str(mse)+\"\\n Score= \" + str(score)+\"\\n ----- Computation time = \" + str(1000*(toc - tic)) + \"ms\")"
   ]
  },
  {
   "cell_type": "markdown",
   "metadata": {},
   "source": [
    "### CONCLUSION"
   ]
  },
  {
   "cell_type": "markdown",
   "metadata": {},
   "source": [
    "By performing the 5-fold CV & 10-fold CV, now we can compare both of them to observe that:\n",
    "\n",
    "    MSE for 5-fold is      3538489.301508037\n",
    "    MSE for 10-fold is     3538489.301508037\n",
    "    MSE for testing set is 3622527.9572477085\n",
    "\n",
    "    Score for 5-fold is      -3362366.7466791393\n",
    "    Score for 10-fold is     -3362366.7466791393\n",
    "    Score for testing set is  0.6268724646590897\n",
    "    \n",
    "    Computation time for 5-fold      is 1687.5 ms\n",
    "    Computation time for 10-fold     is 2484.375 ms\n",
    "    "
   ]
  },
  {
   "cell_type": "markdown",
   "metadata": {},
   "source": [
    "With the data above, it can be observed that, the 5-fold CV is better than other methods as it has less computation time despite having similar MSE.\n",
    "Since, the number of records is limited, we don't see difference in the scores.Only the computation time is informing about the efficiency of the model. Hence, we will go with 5-fold CV with this dataset."
   ]
  },
  {
   "cell_type": "code",
   "execution_count": null,
   "metadata": {},
   "outputs": [],
   "source": []
  }
 ],
 "metadata": {
  "kernelspec": {
   "display_name": "Python 3",
   "language": "python",
   "name": "python3"
  },
  "language_info": {
   "codemirror_mode": {
    "name": "ipython",
    "version": 3
   },
   "file_extension": ".py",
   "mimetype": "text/x-python",
   "name": "python",
   "nbconvert_exporter": "python",
   "pygments_lexer": "ipython3",
   "version": "3.7.3"
  }
 },
 "nbformat": 4,
 "nbformat_minor": 4
}
